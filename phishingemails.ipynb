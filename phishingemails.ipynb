{
  "cells": [
    {
      "cell_type": "markdown",
      "source": [],
      "metadata": {
        "id": "NXH49EQEuGha"
      }
    },
    {
      "cell_type": "markdown",
      "metadata": {
        "id": "YaqUDjYAuFPI"
      },
      "source": [
        "## Phishing Email Classifier: Feature Engineering, Logistic Regression, Cross Validation"
      ]
    },
    {
      "cell_type": "markdown",
      "metadata": {
        "nbgrader": {
          "grade": false,
          "grade_id": "proj2",
          "locked": true,
          "schema_version": 2,
          "solution": false
        },
        "id": "-pOtcrNAuFPK"
      },
      "source": [
        "Email classification. I want to eventually classify emails as phishing/spam emails or not, using features generated from the email's text.\n",
        "\n",
        "Labeled training dataset: 8348 labeled examples. Test set contains 1000 unlabeled examples. Thanks to the UC Berkeley students who provided me with this dataset.\n",
        "\n",
        "\n",
        "The train DataFrame contains labeled data that I will use to train the model. It contains four columns:\n",
        "\n",
        "id: An identifier for the training example\n",
        "subject: The subject of the email\n",
        "email: The text of the email\n",
        "values: 1 if the email is phishing, 0 if the email is legitimate"
      ]
    },
    {
      "cell_type": "markdown",
      "metadata": {
        "nbgrader": {
          "grade": false,
          "grade_id": "p1",
          "locked": true,
          "schema_version": 2,
          "solution": false
        },
        "id": "ejFK38xiuFPM"
      },
      "source": [
        "###Initial Analysis"
      ]
    },
    {
      "cell_type": "code",
      "execution_count": null,
      "metadata": {
        "ExecuteTime": {
          "end_time": "2019-04-03T20:17:41.341673Z",
          "start_time": "2019-04-03T20:17:41.330307Z"
        },
        "nbgrader": {
          "grade": false,
          "grade_id": "imports",
          "locked": true,
          "schema_version": 2,
          "solution": false
        },
        "id": "nna1fteyuFPN"
      },
      "outputs": [],
      "source": [
        "import numpy as np\n",
        "import pandas as pd\n",
        "\n",
        "import matplotlib.pyplot as plt\n",
        "%matplotlib inline\n",
        "\n",
        "import seaborn as sns\n",
        "sns.set(style = \"whitegrid\",\n",
        "        color_codes = True,\n",
        "        font_scale = 1.5)"
      ]
    },
    {
      "cell_type": "code",
      "execution_count": null,
      "metadata": {
        "ExecuteTime": {
          "end_time": "2019-04-03T20:17:42.181245Z",
          "start_time": "2019-04-03T20:17:41.343927Z"
        },
        "nbgrader": {
          "grade": false,
          "grade_id": "fetch-data",
          "locked": true,
          "schema_version": 2,
          "solution": false
        },
        "id": "CWy1xPZuuFPN",
        "outputId": "947198e1-c2fb-4210-effd-6a35dc44cfa0"
      },
      "outputs": [
        {
          "name": "stdout",
          "output_type": "stream",
          "text": [
            "Using version already downloaded: Thu Nov 28 13:04:06 2019\n",
            "MD5 hash of file: 0380c4cf72746622947b9ca5db9b8be8\n",
            "Using version already downloaded: Thu Nov 28 13:04:08 2019\n",
            "MD5 hash of file: a2e7abd8c7d9abf6e6fafc1d1f9ee6bf\n"
          ]
        },
        {
          "data": {
            "text/html": [
              "<div>\n",
              "<style scoped>\n",
              "    .dataframe tbody tr th:only-of-type {\n",
              "        vertical-align: middle;\n",
              "    }\n",
              "\n",
              "    .dataframe tbody tr th {\n",
              "        vertical-align: top;\n",
              "    }\n",
              "\n",
              "    .dataframe thead th {\n",
              "        text-align: right;\n",
              "    }\n",
              "</style>\n",
              "<table border=\"1\" class=\"dataframe\">\n",
              "  <thead>\n",
              "    <tr style=\"text-align: right;\">\n",
              "      <th></th>\n",
              "      <th>id</th>\n",
              "      <th>subject</th>\n",
              "      <th>email</th>\n",
              "      <th>spam</th>\n",
              "    </tr>\n",
              "  </thead>\n",
              "  <tbody>\n",
              "    <tr>\n",
              "      <th>0</th>\n",
              "      <td>0</td>\n",
              "      <td>Subject: A&amp;L Daily to be auctioned in bankrupt...</td>\n",
              "      <td>url: http://boingboing.net/#85534171\\n date: n...</td>\n",
              "      <td>0</td>\n",
              "    </tr>\n",
              "    <tr>\n",
              "      <th>1</th>\n",
              "      <td>1</td>\n",
              "      <td>Subject: Wired: \"Stronger ties between ISPs an...</td>\n",
              "      <td>url: http://scriptingnews.userland.com/backiss...</td>\n",
              "      <td>0</td>\n",
              "    </tr>\n",
              "    <tr>\n",
              "      <th>2</th>\n",
              "      <td>2</td>\n",
              "      <td>Subject: It's just too small                  ...</td>\n",
              "      <td>&lt;html&gt;\\n &lt;head&gt;\\n &lt;/head&gt;\\n &lt;body&gt;\\n &lt;font siz...</td>\n",
              "      <td>1</td>\n",
              "    </tr>\n",
              "    <tr>\n",
              "      <th>3</th>\n",
              "      <td>3</td>\n",
              "      <td>Subject: liberal defnitions\\n</td>\n",
              "      <td>depends on how much over spending vs. how much...</td>\n",
              "      <td>0</td>\n",
              "    </tr>\n",
              "    <tr>\n",
              "      <th>4</th>\n",
              "      <td>4</td>\n",
              "      <td>Subject: RE: [ILUG] Newbie seeks advice - Suse...</td>\n",
              "      <td>hehe sorry but if you hit caps lock twice the ...</td>\n",
              "      <td>0</td>\n",
              "    </tr>\n",
              "  </tbody>\n",
              "</table>\n",
              "</div>"
            ],
            "text/plain": [
              "   id                                            subject  \\\n",
              "0   0  Subject: A&L Daily to be auctioned in bankrupt...   \n",
              "1   1  Subject: Wired: \"Stronger ties between ISPs an...   \n",
              "2   2  Subject: It's just too small                  ...   \n",
              "3   3                      Subject: liberal defnitions\\n   \n",
              "4   4  Subject: RE: [ILUG] Newbie seeks advice - Suse...   \n",
              "\n",
              "                                               email  spam  \n",
              "0  url: http://boingboing.net/#85534171\\n date: n...     0  \n",
              "1  url: http://scriptingnews.userland.com/backiss...     0  \n",
              "2  <html>\\n <head>\\n </head>\\n <body>\\n <font siz...     1  \n",
              "3  depends on how much over spending vs. how much...     0  \n",
              "4  hehe sorry but if you hit caps lock twice the ...     0  "
            ]
          },
          "execution_count": 3,
          "metadata": {},
          "output_type": "execute_result"
        }
      ],
      "source": [
        "from utils import fetch_and_cache_gdrive\n",
        "fetch_and_cache_gdrive('1SCASpLZFKCp2zek-toR3xeKX3DZnBSyp', 'train.csv')\n",
        "fetch_and_cache_gdrive('1ZDFo9OTF96B5GP2Nzn8P8-AL7CTQXmC0', 'test.csv')\n",
        "\n",
        "original_training_data = pd.read_csv('data/train.csv')\n",
        "test = pd.read_csv('data/test.csv')\n",
        "\n",
        "# Convert the emails to lower case as a first step to processing the text\n",
        "original_training_data['email'] = original_training_data['email'].str.lower()\n",
        "test['email'] = test['email'].str.lower()\n",
        "\n",
        "original_training_data.head()"
      ]
    },
    {
      "cell_type": "markdown",
      "metadata": {
        "deletable": false,
        "editable": false,
        "nbgrader": {
          "grade": false,
          "grade_id": "cell-34476156ed73b800",
          "locked": true,
          "schema_version": 2,
          "solution": false
        },
        "id": "APWY4HwWuFPO"
      },
      "source": [
        "Missing values"
      ]
    },
    {
      "cell_type": "code",
      "execution_count": null,
      "metadata": {
        "ExecuteTime": {
          "end_time": "2019-04-03T20:17:42.203231Z",
          "start_time": "2019-04-03T20:17:42.185104Z"
        },
        "nbgrader": {
          "grade": false,
          "grade_id": "cell-b1fb39d9b651ca1b",
          "locked": false,
          "schema_version": 2,
          "solution": true
        },
        "id": "0J2CsLhLuFPP",
        "outputId": "65bf91ac-9441-463d-d5f4-f5903e551dd5"
      },
      "outputs": [
        {
          "name": "stdout",
          "output_type": "stream",
          "text": [
            "The number of NaN values in the id column is:  0\n",
            "The number of NaN values in the subject column is:  6\n",
            "The number of NaN values in the email column is:  0\n",
            "The number of NaN values in the spam column is:  0\n"
          ]
        }
      ],
      "source": [
        "print(\"Number of NaN values in the id column is: \", original_training_data['id'].isna().sum())\n",
        "print(\"Number of NaN values in the subject column is: \", original_training_data['subject'].isna().sum())\n",
        "print(\"Number of NaN values in the email column is: \", original_training_data['email'].isna().sum())\n",
        "print(\"Number of NaN values in the spam column is: \", original_training_data['spam'].isna().sum())\n",
        "\n",
        "original_training_data = original_training_data.fillna('')"
      ]
    },
    {
      "cell_type": "markdown",
      "metadata": {
        "deletable": false,
        "editable": false,
        "nbgrader": {
          "grade": false,
          "grade_id": "q1",
          "locked": true,
          "schema_version": 2,
          "solution": false
        },
        "id": "wybRGe06uFPQ"
      },
      "source": [
        "Viewing the fist few emails"
      ]
    },
    {
      "cell_type": "code",
      "execution_count": null,
      "metadata": {
        "ExecuteTime": {
          "end_time": "2019-04-03T20:17:42.247245Z",
          "start_time": "2019-04-03T20:17:42.228451Z"
        },
        "nbgrader": {
          "grade": false,
          "grade_id": "q1-answer",
          "locked": false,
          "schema_version": 2,
          "solution": true
        },
        "id": "RNiEYl-YuFPQ",
        "outputId": "1634184a-2c82-499b-b6f2-853524ffd4e7"
      },
      "outputs": [
        {
          "name": "stdout",
          "output_type": "stream",
          "text": [
            "url: http://boingboing.net/#85534171\n",
            " date: not supplied\n",
            " \n",
            " arts and letters daily, a wonderful and dense blog, has folded up its tent due \n",
            " to the bankruptcy of its parent company. a&l daily will be auctioned off by the \n",
            " receivers. link[1] discuss[2] (_thanks, misha!_)\n",
            " \n",
            " [1] http://www.aldaily.com/\n",
            " [2] http://www.quicktopic.com/boing/h/zlfterjnd6jf\n",
            " \n",
            " \n",
            "\n",
            "<html>\n",
            " <head>\n",
            " </head>\n",
            " <body>\n",
            " <font size=3d\"4\"><b> a man endowed with a 7-8\" hammer is simply<br>\n",
            "  better equipped than a man with a 5-6\"hammer. <br>\n",
            " <br>would you rather have<br>more than enough to get the job done or fall =\n",
            " short. it's totally up<br>to you. our methods are guaranteed to increase y=\n",
            " our size by 1-3\"<br> <a href=3d\"http://209.163.187.47/cgi-bin/index.php?10=\n",
            " 004\">come in here and see how</a>\n",
            " </body>\n",
            " </html>\n",
            " \n",
            " \n",
            " \n",
            "\n"
          ]
        }
      ],
      "source": [
        "ham = original_training_data[original_training_data['spam']==0]\n",
        "spam = original_training_data[original_training_data['spam']==1]\n",
        "\n",
        "first_ham = ham.iloc[0,2]\n",
        "first_spam = spam.iloc[0,2]\n",
        "print(first_ham)\n",
        "print(first_spam)"
      ]
    },
    {
      "cell_type": "markdown",
      "metadata": {
        "nbgrader": {
          "grade": false,
          "grade_id": "cell-78513403ef52a957",
          "locked": true,
          "schema_version": 2,
          "solution": false
        },
        "id": "ou8gohTuuFPR"
      },
      "source": [
        "## Training Validation Split"
      ]
    },
    {
      "cell_type": "code",
      "execution_count": null,
      "metadata": {
        "ExecuteTime": {
          "end_time": "2019-04-03T20:17:42.317970Z",
          "start_time": "2019-04-03T20:17:42.294532Z"
        },
        "nbgrader": {
          "grade": false,
          "grade_id": "cell-873194ed3e686dfb",
          "locked": true,
          "schema_version": 2,
          "solution": false
        },
        "id": "Wrmn45OCuFPR"
      },
      "outputs": [],
      "source": [
        "from sklearn.model_selection import train_test_split\n",
        "\n",
        "train, val = train_test_split(original_training_data, test_size=0.1, random_state=42)"
      ]
    },
    {
      "cell_type": "markdown",
      "metadata": {
        "nbgrader": {
          "grade": false,
          "grade_id": "feat-eng",
          "locked": true,
          "schema_version": 2,
          "solution": false
        },
        "id": "I7MUHK11uFPR"
      },
      "source": [
        "# Basic Feature Engineering\n",
        "\n",
        "As this is classificiation, I'll use a logistic regression mode and for this l we need a numeric feature matrix X and a vector of corresponding binary labels, y.  Since the data is text not numbers I can create numeric features from the email text and use those features for logistic regression."
      ]
    },
    {
      "cell_type": "code",
      "execution_count": null,
      "metadata": {
        "ExecuteTime": {
          "end_time": "2019-04-03T20:17:42.337281Z",
          "start_time": "2019-04-03T20:17:42.320567Z"
        },
        "nbgrader": {
          "grade": false,
          "grade_id": "q2-answer",
          "locked": false,
          "schema_version": 2,
          "solution": true
        },
        "tags": [
          "student"
        ],
        "id": "s3czcke5uFPS"
      },
      "outputs": [],
      "source": [
        "def words_in_texts(words, texts):\n",
        "    '''\n",
        "    Inputs:\n",
        "        words (list-like): words to find\n",
        "        texts (Series): strings to search in\n",
        "\n",
        "    Outputs:\n",
        "        NumPy array of 0s and 1s with shape (n, p) where n is the\n",
        "        number of texts and p is the number of words.\n",
        "    '''\n",
        "    indicator_array = np.array([])\n",
        "    for email in texts:\n",
        "        email_array = np.array([])\n",
        "        for word in words:\n",
        "            if word in email:\n",
        "                email_array = np.append(email_array, 1)\n",
        "            else:\n",
        "                email_array = np.append(email_array, 0)\n",
        "        indicator_array = np.append(indicator_array, email_array, axis = 0)\n",
        "    indicator_array = np.reshape(indicator_array, (len(texts), len(words)))\n",
        "    return indicator_array"
      ]
    },
    {
      "cell_type": "code",
      "execution_count": null,
      "metadata": {
        "id": "PbuvI2QbuFPS",
        "outputId": "e132f431-5361-4785-a535-ac1c65f45432"
      },
      "outputs": [
        {
          "data": {
            "text/plain": [
              "array([[1., 0., 0.],\n",
              "       [1., 0., 1.]])"
            ]
          },
          "execution_count": 10,
          "metadata": {},
          "output_type": "execute_result"
        }
      ],
      "source": [
        "words_in_texts(['hello', 'bye', 'html'], pd.Series(['hello', 'hello</html>']))"
      ]
    },
    {
      "cell_type": "markdown",
      "metadata": {
        "nbgrader": {
          "grade": false,
          "grade_id": "eda",
          "locked": true,
          "schema_version": 2,
          "solution": false
        },
        "id": "PZ_I3Ti5uFPT"
      },
      "source": [
        "# Basic EDA\n"
      ]
    },
    {
      "cell_type": "code",
      "execution_count": null,
      "metadata": {
        "id": "4bWUAqQXuFPU",
        "outputId": "91bb5674-af2e-4d37-e958-7b92adae48f7"
      },
      "outputs": [
        {
          "data": {
            "image/png": "[encoded data removed]",
            "text/plain": [
              "<Figure size 720x432 with 1 Axes>"
            ]
          },
          "metadata": {
            "needs_background": "light"
          },
          "output_type": "display_data"
        }
      ],
      "source": [
        "train=train.reset_index(drop=True)\n",
        "plt.figure(figsize = (10,6))\n",
        "spam_words = ['100%', 'click', 'html', 'free', 'offer', 'unsubscribe']\n",
        "by_word = words_in_texts(spam_words, train['email'])\n",
        "by_word = pd.DataFrame(by_word)\n",
        "by_word['spam'] = train['spam']\n",
        "by_word = by_word.melt('spam')\n",
        "sns.barplot(x = by_word['variable'], y = by_word['value'], hue = by_word['spam']).set(xticklabels=spam_words)\n",
        "plt.xlabel('Words')\n",
        "plt.ylabel('Proportion of Emails')\n",
        "plt.title('Words frequency in Spam/Ham Emails')\n",
        "plt.show()"
      ]
    },
    {
      "cell_type": "code",
      "execution_count": null,
      "metadata": {
        "ExecuteTime": {
          "end_time": "2019-04-03T20:17:43.492661Z",
          "start_time": "2019-04-03T20:17:43.149431Z"
        },
        "nbgrader": {
          "grade": true,
          "grade_id": "q3b-answer",
          "locked": false,
          "points": 2,
          "schema_version": 2,
          "solution": true
        },
        "id": "MTVGMEzIuFPV",
        "outputId": "2aabe304-1294-428c-ed23-2c3483fa76b5"
      },
      "outputs": [
        {
          "data": {
            "text/plain": [
              "Text(0.5, 1.0, 'Length of Ham/Spam Emails')"
            ]
          },
          "execution_count": 14,
          "metadata": {},
          "output_type": "execute_result"
        },
        {
          "data": {
            "image/png": "[encoded data removed]",
            "text/plain": [
              "<Figure size 720x432 with 1 Axes>"
            ]
          },
          "metadata": {
            "needs_background": "light"
          },
          "output_type": "display_data"
        }
      ],
      "source": [
        "train['length'] = train['email'].apply(len)\n",
        "ham = train[train['spam']==0]\n",
        "spam = train[train['spam']==1]\n",
        "fig = plt.figure(figsize=(10,6))\n",
        "sns.distplot(ham['length'], hist = False, label = 'ham').set(xlim = (0,50000))\n",
        "sns.distplot(spam['length'], hist = False, label = 'spam').set(xlim = (0,50000))\n",
        "plt.xlabel('Length of Email')\n",
        "plt.ylabel('Density')\n",
        "plt.title('Length of Ham/Spam Emails')"
      ]
    },
    {
      "cell_type": "markdown",
      "metadata": {
        "nbgrader": {
          "grade": false,
          "grade_id": "classification",
          "locked": true,
          "schema_version": 2,
          "solution": false
        },
        "id": "CSjf690FuFPW"
      },
      "source": [
        "Since the output of `words_in_texts(words, train['email'])` is a numeric matrix with features for each email, we can use it to train a classifier."
      ]
    },
    {
      "cell_type": "code",
      "execution_count": null,
      "metadata": {
        "ExecuteTime": {
          "end_time": "2019-04-03T20:17:43.726012Z",
          "start_time": "2019-04-03T20:17:43.498088Z"
        },
        "nbgrader": {
          "grade": false,
          "grade_id": "q4-answer",
          "locked": false,
          "schema_version": 2,
          "solution": true
        },
        "tags": [
          "student"
        ],
        "id": "VlnqKw8CuFPW",
        "outputId": "77c5ee36-8263-47f5-85b5-24122283f1ee"
      },
      "outputs": [
        {
          "data": {
            "text/plain": [
              "(array([[0, 0, 0, 0, 0],\n",
              "        [0, 0, 0, 0, 0],\n",
              "        [0, 0, 0, 0, 0],\n",
              "        [0, 0, 0, 0, 0],\n",
              "        [0, 0, 0, 1, 0]]), array([0, 0, 0, 0, 0]))"
            ]
          },
          "execution_count": 15,
          "metadata": {},
          "output_type": "execute_result"
        }
      ],
      "source": [
        "some_words = ['drug', 'bank', 'prescription', 'memo', 'private']\n",
        "X_train = words_in_texts(some_words, train['email']).astype(int)\n",
        "Y_train = np.array(train['spam'])\n",
        "X_train[:5], Y_train[:5]"
      ]
    },
    {
      "cell_type": "markdown",
      "metadata": {
        "deletable": false,
        "editable": false,
        "nbgrader": {
          "grade": false,
          "grade_id": "q5",
          "locked": true,
          "schema_version": 2,
          "solution": false
        },
        "id": "CqmUtOXjuFPX"
      },
      "source": [
        "Moving to scikit-learn, the logistic regression classifier"
      ]
    },
    {
      "cell_type": "code",
      "execution_count": null,
      "metadata": {
        "ExecuteTime": {
          "end_time": "2019-04-03T20:17:44.593918Z",
          "start_time": "2019-04-03T20:17:43.783872Z"
        },
        "nbgrader": {
          "grade": false,
          "grade_id": "q5-answer",
          "locked": false,
          "schema_version": 2,
          "solution": true
        },
        "tags": [
          "student"
        ],
        "id": "PLEEQLK8uFPX",
        "outputId": "cd9be2b5-4073-4c88-dd09-84c2ec90e597"
      },
      "outputs": [
        {
          "name": "stdout",
          "output_type": "stream",
          "text": [
            "Training Accuracy:  0.7584187408491947\n"
          ]
        }
      ],
      "source": [
        "from sklearn.linear_model import LogisticRegression\n",
        "\n",
        "model = LogisticRegression(fit_intercept=False).fit(X_train, Y_train)\n",
        "training_accuracy = model.score(X_train, Y_train)\n",
        "print(\"Training Accuracy: \", training_accuracy)"
      ]
    },
    {
      "cell_type": "markdown",
      "metadata": {
        "id": "B-PQZmDNuFPd"
      },
      "source": [
        "## Evaluating Classifiers"
      ]
    },
    {
      "cell_type": "markdown",
      "metadata": {
        "id": "10tJ9ULyuFPd"
      },
      "source": [
        "Peventing errors -- false positive, false negatives etc"
      ]
    },
    {
      "cell_type": "code",
      "execution_count": null,
      "metadata": {
        "ExecuteTime": {
          "end_time": "2019-04-03T20:20:13.853633Z",
          "start_time": "2019-04-03T20:20:13.825724Z"
        },
        "nbgrader": {
          "grade": false,
          "grade_id": "q6a-answer",
          "locked": false,
          "schema_version": 2,
          "solution": true
        },
        "id": "BmVNoT7duFPd"
      },
      "outputs": [],
      "source": [
        "zero_predictor_fp = 0\n",
        "zero_predictor_fn = sum(Y_train)"
      ]
    },
    {
      "cell_type": "code",
      "execution_count": null,
      "metadata": {
        "ExecuteTime": {
          "end_time": "2019-04-03T20:23:21.553134Z",
          "start_time": "2019-04-03T20:23:21.548219Z"
        },
        "id": "MB_XFBoBuFPe",
        "outputId": "8dc9b666-6fb7-4375-897b-a9ccdf0c200b"
      },
      "outputs": [
        {
          "data": {
            "text/plain": [
              "0.7447091707706642"
            ]
          },
          "execution_count": 21,
          "metadata": {},
          "output_type": "execute_result"
        }
      ],
      "source": [
        "zero_predictor_tp = 0\n",
        "zero_predictor_tn = len(Y_train) - sum(Y_train)\n",
        "n = len(Y_train)\n",
        "\n",
        "zero_predictor_acc = zero_predictor_tn/n\n",
        "\n",
        "zero_predictor_recall = 0\n",
        "zero_predictor_acc"
      ]
    },
    {
      "cell_type": "code",
      "execution_count": null,
      "metadata": {
        "ExecuteTime": {
          "end_time": "2019-04-03T20:37:54.875265Z",
          "start_time": "2019-04-03T20:37:54.720667Z"
        },
        "id": "sdbAO7lzuFPf",
        "outputId": "91818983-9e4e-41f3-99a4-d5d9cf5b84ca"
      },
      "outputs": [
        {
          "name": "stdout",
          "output_type": "stream",
          "text": [
            "0.5948434622467772 0.1684045881126173 0.1028999064546305\n"
          ]
        }
      ],
      "source": [
        "predicted = model.predict(X_train)\n",
        "\n",
        "#1 -> 1\n",
        "tp = sum(np.logical_and(Y_train, predicted))\n",
        "#0 -> 0\n",
        "tn = sum(np.logical_and(Y_train, np.invert(predicted)))\n",
        "#0 -> 1\n",
        "fp = sum((Y_train - predicted) < 0)\n",
        "#1 -> 0\n",
        "fn = sum((Y_train - predicted) > 0)\n",
        "\n",
        "\n",
        "logistic_predictor_precision = tp/(tp+fp)\n",
        "logistic_predictor_recall = tp/(tp+fn)\n",
        "logistic_predictor_far = fp/(fp+tn)\n",
        "print(logistic_predictor_precision, logistic_predictor_recall, logistic_predictor_far)"
      ]
    },
    {
      "cell_type": "markdown",
      "source": [
        "### Improving model accuracy"
      ],
      "metadata": {
        "id": "CUQBn-j5wgQA"
      }
    },
    {
      "cell_type": "code",
      "execution_count": null,
      "metadata": {
        "id": "oSj8PFMfuFPg"
      },
      "outputs": [],
      "source": [
        "import re\n",
        "from collections import Counter\n",
        "import sklearn.linear_model as lm\n",
        "import sklearn.metrics as sk\n",
        "\n",
        "\n",
        "pd.set_option('display.max_rows', None)\n",
        "training = pd.read_csv('data/train.csv')\n",
        "test = pd.read_csv('data/test.csv')"
      ]
    },
    {
      "cell_type": "markdown",
      "source": [
        "Feature engineering"
      ],
      "metadata": {
        "id": "lHFMTADfwktA"
      }
    },
    {
      "cell_type": "code",
      "execution_count": null,
      "metadata": {
        "id": "5_X4jtgsuFPh"
      },
      "outputs": [],
      "source": [
        "# proportion of uppercase letters in string\n",
        "def caps(text):\n",
        "    count = sum(1 for s in text if s.isupper())\n",
        "    return count/len(text)\n",
        "\n",
        "# count of special (non-word) letters in string\n",
        "def special(text):\n",
        "    count = len(re.sub('[\\w]+', '', text))\n",
        "    return count\n",
        "\n",
        "# Returns 1 or 0 if 're' or 'fw' in subject line\n",
        "def re_fw(text):\n",
        "    match = re.search('^re|^fw', text.lower())\n",
        "    if match:\n",
        "        return 1\n",
        "    return 0\n",
        "\n",
        "#returns number of words in string\n",
        "def num_words(text):\n",
        "    return len(text.split())\n",
        "\n",
        "def remove_stopwords(email):\n",
        "    new_email = ''\n",
        "    split = email.lower().split()\n",
        "    for word in split:\n",
        "        if word not in my_stopwords:\n",
        "            new_email += word + ' '\n",
        "    return new_email\n",
        "\n",
        "my_stopwords = ['hers', 'between', 'yourself', 'but', 'again',\n",
        "                'there', 'about', 'once', 'out', 'very', 'having',\n",
        "                'with', 'they', 'own', 'an', 'be', 'some', 'for', 'do', 'its',\n",
        "                'yours', 'such', 'into', 'of', 'most', 'itself', 'other', 'off',\n",
        "                'is', 's', 'am', 'or', 'who', 'as', 'from', 'him', 'each', 'the',\n",
        "                'themselves', 'until', 'below', 'are', 'we', 'these', 'your', 'his',\n",
        "                'through', 'nor', 'me', 'were', 'her', 'more', 'himself', 'this',\n",
        "                'down', 'should', 'our', 'their', 'while', 'above', 'both', 'up', 'to',\n",
        "                'ours', 'had', 'she', 'all', 'no', 'when', 'at', 'any', 'before', 'them',\n",
        "                'same', 'and', 'been', 'have', 'in', 'will', 'on', 'does', 'yourselves',\n",
        "                'then', 'that', 'because', 'what', 'over', 'why', 'so', 'can', 'did', 'not',\n",
        "                'now', 'under', 'he', 'you', 'herself', 'has', 'just', 'where', 'too', 'only',\n",
        "                'myself', 'which', 'those', 'i', 'after', 'few', 'whom', 't', 'being', 'if',\n",
        "                'theirs', 'my', 'against', 'a', 'by', 'doing', 'it', 'how', 'further', 'was',\n",
        "                'here', 'than']\n",
        "\n",
        "words = ['100%', 'click', 'html', 'offer', 'free', 'would', 'use',\n",
        "         'guaranteed', 'deal', 'insurance', 'receive',\n",
        "         'reply', 'bank', 'business', 'offer', 'url', 'thanks', 'name',\n",
        "         'could', 'really', 'wrote:','think','still','really', 'date:']"
      ]
    },
    {
      "cell_type": "markdown",
      "source": [
        "clean/train/test"
      ],
      "metadata": {
        "id": "md6yv70DwsL0"
      }
    },
    {
      "cell_type": "code",
      "execution_count": null,
      "metadata": {
        "id": "HGR3obLOuFPi"
      },
      "outputs": [],
      "source": [
        "def clean(data):\n",
        "    data['e_cap'] = data['email'].astype(str).apply(caps)\n",
        "    data['subject'] = data['subject'].str.replace('Subject: ', '')\n",
        "    data['email'] = data['email'].apply(remove_stopwords)\n",
        "    data['s_len'] = data['subject'].astype(str).apply(len)\n",
        "    data['e_len'] = data['email'].astype(str).apply(len)\n",
        "    data['s_cap'] = data['subject'].astype(str).apply(caps)\n",
        "    data['s_special'] = data['subject'].astype(str).apply(special)\n",
        "    data['e_special'] = data['email'].astype(str).apply(special)\n",
        "    data['re_fw'] = data['subject'].astype(str).apply(re_fw)\n",
        "    data['e_words'] = data['email'].astype(str).apply(num_words)\n",
        "    word_df = pd.DataFrame(words_in_texts(words, data['email'].astype(str).str.lower()))\n",
        "    word_df['id'] = data['id']\n",
        "    data = data.merge(word_df, on = 'id')\n",
        "    return data\n",
        "\n",
        "\n",
        "training = clean(training)\n",
        "test = clean(test)"
      ]
    },
    {
      "cell_type": "code",
      "execution_count": null,
      "metadata": {
        "id": "uLDVodHJuFPi",
        "outputId": "065cfbd8-ef28-42d2-af8c-8354b1a18282"
      },
      "outputs": [
        {
          "data": {
            "text/html": [
              "<div>\n",
              "<style scoped>\n",
              "    .dataframe tbody tr th:only-of-type {\n",
              "        vertical-align: middle;\n",
              "    }\n",
              "\n",
              "    .dataframe tbody tr th {\n",
              "        vertical-align: top;\n",
              "    }\n",
              "\n",
              "    .dataframe thead th {\n",
              "        text-align: right;\n",
              "    }\n",
              "</style>\n",
              "<table border=\"1\" class=\"dataframe\">\n",
              "  <thead>\n",
              "    <tr style=\"text-align: right;\">\n",
              "      <th></th>\n",
              "      <th>id</th>\n",
              "      <th>subject</th>\n",
              "      <th>email</th>\n",
              "      <th>spam</th>\n",
              "      <th>e_cap</th>\n",
              "      <th>s_len</th>\n",
              "      <th>e_len</th>\n",
              "      <th>s_cap</th>\n",
              "      <th>s_special</th>\n",
              "      <th>e_special</th>\n",
              "      <th>...</th>\n",
              "      <th>15</th>\n",
              "      <th>16</th>\n",
              "      <th>17</th>\n",
              "      <th>18</th>\n",
              "      <th>19</th>\n",
              "      <th>20</th>\n",
              "      <th>21</th>\n",
              "      <th>22</th>\n",
              "      <th>23</th>\n",
              "      <th>24</th>\n",
              "    </tr>\n",
              "  </thead>\n",
              "  <tbody>\n",
              "    <tr>\n",
              "      <th>0</th>\n",
              "      <td>0</td>\n",
              "      <td>A&amp;L Daily to be auctioned in bankruptcy\\n</td>\n",
              "      <td>url: http://boingboing.net/#85534171 date: sup...</td>\n",
              "      <td>0</td>\n",
              "      <td>0.061281</td>\n",
              "      <td>40</td>\n",
              "      <td>285</td>\n",
              "      <td>0.075000</td>\n",
              "      <td>8</td>\n",
              "      <td>67</td>\n",
              "      <td>...</td>\n",
              "      <td>1.0</td>\n",
              "      <td>1.0</td>\n",
              "      <td>0.0</td>\n",
              "      <td>0.0</td>\n",
              "      <td>0.0</td>\n",
              "      <td>0.0</td>\n",
              "      <td>0.0</td>\n",
              "      <td>0.0</td>\n",
              "      <td>0.0</td>\n",
              "      <td>1.0</td>\n",
              "    </tr>\n",
              "    <tr>\n",
              "      <th>1</th>\n",
              "      <td>1</td>\n",
              "      <td>Wired: \"Stronger ties between ISPs and file-tr...</td>\n",
              "      <td>url: http://scriptingnews.userland.com/backiss...</td>\n",
              "      <td>0</td>\n",
              "      <td>0.064748</td>\n",
              "      <td>62</td>\n",
              "      <td>253</td>\n",
              "      <td>0.080645</td>\n",
              "      <td>11</td>\n",
              "      <td>61</td>\n",
              "      <td>...</td>\n",
              "      <td>1.0</td>\n",
              "      <td>0.0</td>\n",
              "      <td>0.0</td>\n",
              "      <td>1.0</td>\n",
              "      <td>0.0</td>\n",
              "      <td>0.0</td>\n",
              "      <td>0.0</td>\n",
              "      <td>0.0</td>\n",
              "      <td>0.0</td>\n",
              "      <td>1.0</td>\n",
              "    </tr>\n",
              "    <tr>\n",
              "      <th>2</th>\n",
              "      <td>2</td>\n",
              "      <td>It's just too small                    HLOY\\n</td>\n",
              "      <td>&lt;html&gt; &lt;head&gt; &lt;/head&gt; &lt;body&gt; &lt;font size=3d\"4\"&gt;...</td>\n",
              "      <td>1</td>\n",
              "      <td>0.114865</td>\n",
              "      <td>44</td>\n",
              "      <td>351</td>\n",
              "      <td>0.113636</td>\n",
              "      <td>25</td>\n",
              "      <td>109</td>\n",
              "      <td>...</td>\n",
              "      <td>0.0</td>\n",
              "      <td>0.0</td>\n",
              "      <td>0.0</td>\n",
              "      <td>0.0</td>\n",
              "      <td>0.0</td>\n",
              "      <td>0.0</td>\n",
              "      <td>0.0</td>\n",
              "      <td>0.0</td>\n",
              "      <td>0.0</td>\n",
              "      <td>0.0</td>\n",
              "    </tr>\n",
              "    <tr>\n",
              "      <th>3</th>\n",
              "      <td>3</td>\n",
              "      <td>liberal defnitions\\n</td>\n",
              "      <td>depends much spending vs. much (and type) regu...</td>\n",
              "      <td>0</td>\n",
              "      <td>0.017333</td>\n",
              "      <td>19</td>\n",
              "      <td>1043</td>\n",
              "      <td>0.000000</td>\n",
              "      <td>2</td>\n",
              "      <td>204</td>\n",
              "      <td>...</td>\n",
              "      <td>0.0</td>\n",
              "      <td>0.0</td>\n",
              "      <td>0.0</td>\n",
              "      <td>0.0</td>\n",
              "      <td>0.0</td>\n",
              "      <td>0.0</td>\n",
              "      <td>1.0</td>\n",
              "      <td>0.0</td>\n",
              "      <td>0.0</td>\n",
              "      <td>0.0</td>\n",
              "    </tr>\n",
              "    <tr>\n",
              "      <th>4</th>\n",
              "      <td>4</td>\n",
              "      <td>RE: [ILUG] Newbie seeks advice - Suse 7.2\\n</td>\n",
              "      <td>hehe sorry hit caps lock twice computer crashe...</td>\n",
              "      <td>0</td>\n",
              "      <td>0.044599</td>\n",
              "      <td>42</td>\n",
              "      <td>1556</td>\n",
              "      <td>0.190476</td>\n",
              "      <td>13</td>\n",
              "      <td>337</td>\n",
              "      <td>...</td>\n",
              "      <td>0.0</td>\n",
              "      <td>1.0</td>\n",
              "      <td>0.0</td>\n",
              "      <td>0.0</td>\n",
              "      <td>1.0</td>\n",
              "      <td>0.0</td>\n",
              "      <td>1.0</td>\n",
              "      <td>1.0</td>\n",
              "      <td>1.0</td>\n",
              "      <td>0.0</td>\n",
              "    </tr>\n",
              "  </tbody>\n",
              "</table>\n",
              "<p>5 rows × 37 columns</p>\n",
              "</div>"
            ],
            "text/plain": [
              "   id                                            subject  \\\n",
              "0   0          A&L Daily to be auctioned in bankruptcy\\n   \n",
              "1   1  Wired: \"Stronger ties between ISPs and file-tr...   \n",
              "2   2      It's just too small                    HLOY\\n   \n",
              "3   3                               liberal defnitions\\n   \n",
              "4   4        RE: [ILUG] Newbie seeks advice - Suse 7.2\\n   \n",
              "\n",
              "                                               email  spam     e_cap  s_len  \\\n",
              "0  url: http://boingboing.net/#85534171 date: sup...     0  0.061281     40   \n",
              "1  url: http://scriptingnews.userland.com/backiss...     0  0.064748     62   \n",
              "2  <html> <head> </head> <body> <font size=3d\"4\">...     1  0.114865     44   \n",
              "3  depends much spending vs. much (and type) regu...     0  0.017333     19   \n",
              "4  hehe sorry hit caps lock twice computer crashe...     0  0.044599     42   \n",
              "\n",
              "   e_len     s_cap  s_special  e_special  ...   15   16   17   18   19   20  \\\n",
              "0    285  0.075000          8         67  ...  1.0  1.0  0.0  0.0  0.0  0.0   \n",
              "1    253  0.080645         11         61  ...  1.0  0.0  0.0  1.0  0.0  0.0   \n",
              "2    351  0.113636         25        109  ...  0.0  0.0  0.0  0.0  0.0  0.0   \n",
              "3   1043  0.000000          2        204  ...  0.0  0.0  0.0  0.0  0.0  0.0   \n",
              "4   1556  0.190476         13        337  ...  0.0  1.0  0.0  0.0  1.0  0.0   \n",
              "\n",
              "    21   22   23   24  \n",
              "0  0.0  0.0  0.0  1.0  \n",
              "1  0.0  0.0  0.0  1.0  \n",
              "2  0.0  0.0  0.0  0.0  \n",
              "3  1.0  0.0  0.0  0.0  \n",
              "4  1.0  1.0  1.0  0.0  \n",
              "\n",
              "[5 rows x 37 columns]"
            ]
          },
          "execution_count": 28,
          "metadata": {},
          "output_type": "execute_result"
        }
      ],
      "source": [
        "training.head()"
      ]
    },
    {
      "cell_type": "markdown",
      "source": [
        "Visualizing"
      ],
      "metadata": {
        "id": "jNcE_53Nwvtn"
      }
    },
    {
      "cell_type": "code",
      "execution_count": null,
      "metadata": {
        "id": "TT7aX1AJuFPi"
      },
      "outputs": [],
      "source": [
        "# Splitting data, pulling out word features\n",
        "train, val = train_test_split(training, test_size=0.2, random_state=42)\n",
        "\n",
        "spam = train[train['spam'] ==1]\n",
        "ham = train[train['spam'] ==0]\n",
        "\n",
        "spam_common = Counter(\" \".join(spam[\"email\"]).lower().split()).most_common(300)\n",
        "ham_common = Counter(\" \".join(ham[\"email\"]).lower().split()).most_common(300)\n",
        "\n",
        "only_spam = list(set(spam_common) - set(ham_common))\n",
        "\n",
        "#spam_s_common = Counter(\" \".join(spam[\"subject\"].astype(str)).lower().split()).most_common(100)\n",
        "#ham_s_common = Counter(\" \".join(ham[\"subject\"].astype(str)).lower().split()).most_common(100)"
      ]
    },
    {
      "cell_type": "code",
      "execution_count": null,
      "metadata": {
        "id": "gkp9AiQOuFPj",
        "outputId": "73cae8b5-4a31-44b0-f329-82c0e76faca2"
      },
      "outputs": [
        {
          "data": {
            "text/plain": [
              "Text(0, 0.5, 'density')"
            ]
          },
          "execution_count": 30,
          "metadata": {},
          "output_type": "execute_result"
        },
        {
          "data": {
            "image/png": "[encoded data removed]",
            "text/plain": [
              "<Figure size 360x360 with 1 Axes>"
            ]
          },
          "metadata": {
            "needs_background": "light"
          },
          "output_type": "display_data"
        }
      ],
      "source": [
        "# Plotting features\n",
        "fig = plt.figure(figsize=(5,5))\n",
        "sns.distplot(ham['s_special'], hist = False, label = 'ham').set(xlim = (0,100))\n",
        "sns.distplot(spam['s_special'], hist = False, label = 'spam').set(xlim = (0,100))\n",
        "\n",
        "plt.xlabel('count/prop/value')\n",
        "plt.ylabel('density')"
      ]
    },
    {
      "cell_type": "code",
      "execution_count": null,
      "metadata": {
        "id": "6JgeMH9uuFPj",
        "outputId": "cb0b08e8-103f-4013-c92a-b34643bb3772"
      },
      "outputs": [
        {
          "data": {
            "text/plain": [
              "<matplotlib.axes._subplots.AxesSubplot at 0x7f572c829cf8>"
            ]
          },
          "execution_count": 31,
          "metadata": {},
          "output_type": "execute_result"
        },
        {
          "data": {
            "image/png": "[encoded data removed]",
            "text/plain": [
              "<Figure size 432x288 with 1 Axes>"
            ]
          },
          "metadata": {
            "needs_background": "light"
          },
          "output_type": "display_data"
        }
      ],
      "source": [
        "# Plotting re_fw\n",
        "bar = train[['spam', 're_fw']].melt('spam')\n",
        "sns.barplot(x = bar['variable'], y = bar['value'], hue = bar['spam'])"
      ]
    },
    {
      "cell_type": "code",
      "execution_count": null,
      "metadata": {
        "id": "KSWYiMwjuFPj",
        "outputId": "764ff5d3-d119-4711-94c0-c32e7ff609db"
      },
      "outputs": [
        {
          "data": {
            "text/html": [
              "<div>\n",
              "<style scoped>\n",
              "    .dataframe tbody tr th:only-of-type {\n",
              "        vertical-align: middle;\n",
              "    }\n",
              "\n",
              "    .dataframe tbody tr th {\n",
              "        vertical-align: top;\n",
              "    }\n",
              "\n",
              "    .dataframe thead th {\n",
              "        text-align: right;\n",
              "    }\n",
              "</style>\n",
              "<table border=\"1\" class=\"dataframe\">\n",
              "  <thead>\n",
              "    <tr style=\"text-align: right;\">\n",
              "      <th></th>\n",
              "      <th>id</th>\n",
              "      <th>subject</th>\n",
              "      <th>email</th>\n",
              "      <th>spam</th>\n",
              "      <th>e_cap</th>\n",
              "      <th>s_len</th>\n",
              "      <th>e_len</th>\n",
              "      <th>s_cap</th>\n",
              "      <th>s_special</th>\n",
              "      <th>e_special</th>\n",
              "      <th>...</th>\n",
              "      <th>15</th>\n",
              "      <th>16</th>\n",
              "      <th>17</th>\n",
              "      <th>18</th>\n",
              "      <th>19</th>\n",
              "      <th>20</th>\n",
              "      <th>21</th>\n",
              "      <th>22</th>\n",
              "      <th>23</th>\n",
              "      <th>24</th>\n",
              "    </tr>\n",
              "  </thead>\n",
              "  <tbody>\n",
              "    <tr>\n",
              "      <th>2181</th>\n",
              "      <td>2181</td>\n",
              "      <td>Re: Minor feature request\\n</td>\n",
              "      <td>&gt; easy would code menu item marks read message...</td>\n",
              "      <td>0</td>\n",
              "      <td>0.030837</td>\n",
              "      <td>26</td>\n",
              "      <td>1315</td>\n",
              "      <td>0.076923</td>\n",
              "      <td>5</td>\n",
              "      <td>315</td>\n",
              "      <td>...</td>\n",
              "      <td>0.0</td>\n",
              "      <td>0.0</td>\n",
              "      <td>0.0</td>\n",
              "      <td>1.0</td>\n",
              "      <td>0.0</td>\n",
              "      <td>0.0</td>\n",
              "      <td>0.0</td>\n",
              "      <td>1.0</td>\n",
              "      <td>0.0</td>\n",
              "      <td>0.0</td>\n",
              "    </tr>\n",
              "    <tr>\n",
              "      <th>5515</th>\n",
              "      <td>5515</td>\n",
              "      <td>IP: The FCC NPRM  on the Broadcast Flag\\n</td>\n",
              "      <td>--- begin forwarded text delivered-to: ip-sub-...</td>\n",
              "      <td>0</td>\n",
              "      <td>0.051595</td>\n",
              "      <td>40</td>\n",
              "      <td>1133</td>\n",
              "      <td>0.300000</td>\n",
              "      <td>10</td>\n",
              "      <td>263</td>\n",
              "      <td>...</td>\n",
              "      <td>0.0</td>\n",
              "      <td>0.0</td>\n",
              "      <td>0.0</td>\n",
              "      <td>0.0</td>\n",
              "      <td>0.0</td>\n",
              "      <td>0.0</td>\n",
              "      <td>0.0</td>\n",
              "      <td>0.0</td>\n",
              "      <td>0.0</td>\n",
              "      <td>1.0</td>\n",
              "    </tr>\n",
              "    <tr>\n",
              "      <th>1153</th>\n",
              "      <td>1153</td>\n",
              "      <td>FW: FOCUS ON VALUE\\n</td>\n",
              "      <td>&lt;html&gt;&lt;head&gt;&lt;title&gt;&lt;/title&gt;&lt;meta http-equiv=3d...</td>\n",
              "      <td>1</td>\n",
              "      <td>0.089938</td>\n",
              "      <td>19</td>\n",
              "      <td>6527</td>\n",
              "      <td>0.736842</td>\n",
              "      <td>5</td>\n",
              "      <td>1644</td>\n",
              "      <td>...</td>\n",
              "      <td>0.0</td>\n",
              "      <td>0.0</td>\n",
              "      <td>1.0</td>\n",
              "      <td>1.0</td>\n",
              "      <td>0.0</td>\n",
              "      <td>0.0</td>\n",
              "      <td>0.0</td>\n",
              "      <td>0.0</td>\n",
              "      <td>0.0</td>\n",
              "      <td>0.0</td>\n",
              "    </tr>\n",
              "    <tr>\n",
              "      <th>198</th>\n",
              "      <td>198</td>\n",
              "      <td>Re: Ximian apt repos?\\n</td>\n",
              "      <td>mon, 2002-07-22 06:50, che wrote: &gt; thats corr...</td>\n",
              "      <td>0</td>\n",
              "      <td>0.027990</td>\n",
              "      <td>22</td>\n",
              "      <td>326</td>\n",
              "      <td>0.090909</td>\n",
              "      <td>6</td>\n",
              "      <td>63</td>\n",
              "      <td>...</td>\n",
              "      <td>0.0</td>\n",
              "      <td>0.0</td>\n",
              "      <td>0.0</td>\n",
              "      <td>0.0</td>\n",
              "      <td>0.0</td>\n",
              "      <td>1.0</td>\n",
              "      <td>0.0</td>\n",
              "      <td>1.0</td>\n",
              "      <td>0.0</td>\n",
              "      <td>0.0</td>\n",
              "    </tr>\n",
              "    <tr>\n",
              "      <th>6844</th>\n",
              "      <td>6844</td>\n",
              "      <td>Re: [ILUG] cups question\\n</td>\n",
              "      <td>zzzz@example.com (justin mason) writes: &gt; /dev...</td>\n",
              "      <td>0</td>\n",
              "      <td>0.039715</td>\n",
              "      <td>25</td>\n",
              "      <td>779</td>\n",
              "      <td>0.200000</td>\n",
              "      <td>7</td>\n",
              "      <td>187</td>\n",
              "      <td>...</td>\n",
              "      <td>0.0</td>\n",
              "      <td>0.0</td>\n",
              "      <td>1.0</td>\n",
              "      <td>0.0</td>\n",
              "      <td>0.0</td>\n",
              "      <td>0.0</td>\n",
              "      <td>1.0</td>\n",
              "      <td>0.0</td>\n",
              "      <td>0.0</td>\n",
              "      <td>0.0</td>\n",
              "    </tr>\n",
              "  </tbody>\n",
              "</table>\n",
              "<p>5 rows × 37 columns</p>\n",
              "</div>"
            ],
            "text/plain": [
              "        id                                    subject  \\\n",
              "2181  2181                Re: Minor feature request\\n   \n",
              "5515  5515  IP: The FCC NPRM  on the Broadcast Flag\\n   \n",
              "1153  1153                       FW: FOCUS ON VALUE\\n   \n",
              "198    198                    Re: Ximian apt repos?\\n   \n",
              "6844  6844                 Re: [ILUG] cups question\\n   \n",
              "\n",
              "                                                  email  spam     e_cap  \\\n",
              "2181  > easy would code menu item marks read message...     0  0.030837   \n",
              "5515  --- begin forwarded text delivered-to: ip-sub-...     0  0.051595   \n",
              "1153  <html><head><title></title><meta http-equiv=3d...     1  0.089938   \n",
              "198   mon, 2002-07-22 06:50, che wrote: > thats corr...     0  0.027990   \n",
              "6844  zzzz@example.com (justin mason) writes: > /dev...     0  0.039715   \n",
              "\n",
              "      s_len  e_len     s_cap  s_special  e_special  ...   15   16   17   18  \\\n",
              "2181     26   1315  0.076923          5        315  ...  0.0  0.0  0.0  1.0   \n",
              "5515     40   1133  0.300000         10        263  ...  0.0  0.0  0.0  0.0   \n",
              "1153     19   6527  0.736842          5       1644  ...  0.0  0.0  1.0  1.0   \n",
              "198      22    326  0.090909          6         63  ...  0.0  0.0  0.0  0.0   \n",
              "6844     25    779  0.200000          7        187  ...  0.0  0.0  1.0  0.0   \n",
              "\n",
              "       19   20   21   22   23   24  \n",
              "2181  0.0  0.0  0.0  1.0  0.0  0.0  \n",
              "5515  0.0  0.0  0.0  0.0  0.0  1.0  \n",
              "1153  0.0  0.0  0.0  0.0  0.0  0.0  \n",
              "198   0.0  1.0  0.0  1.0  0.0  0.0  \n",
              "6844  0.0  0.0  1.0  0.0  0.0  0.0  \n",
              "\n",
              "[5 rows x 37 columns]"
            ]
          },
          "execution_count": 32,
          "metadata": {},
          "output_type": "execute_result"
        }
      ],
      "source": [
        "train.head()"
      ]
    },
    {
      "cell_type": "code",
      "execution_count": null,
      "metadata": {
        "id": "PWYo3xDNuFPj",
        "outputId": "65da98c3-34a3-4a8c-f74d-31e48dd61a4d"
      },
      "outputs": [
        {
          "data": {
            "text/plain": [
              "(array([ 0,  1,  2,  3,  4,  5,  6,  7,  8,  9, 10, 11, 12, 13, 14, 15, 16,\n",
              "        17, 18, 19, 20, 21, 22, 23, 24]),\n",
              " <a list of 25 Text xticklabel objects>)"
            ]
          },
          "execution_count": 33,
          "metadata": {},
          "output_type": "execute_result"
        },
        {
          "data": {
            "image/png": "[encoded data removed]",
            "text/plain": [
              "<Figure size 1080x432 with 1 Axes>"
            ]
          },
          "metadata": {
            "needs_background": "light"
          },
          "output_type": "display_data"
        }
      ],
      "source": [
        "# word features\n",
        "plt.figure(figsize = (15,6))\n",
        "word_df = train.iloc[:, 12:]\n",
        "word_df['spam'] = train['spam']\n",
        "word_df_melt = word_df.melt('spam')\n",
        "sns.barplot(x = word_df_melt['variable'], y = word_df_melt['value'], hue = word_df_melt['spam']).set(xticklabels=words)\n",
        "plt.xlabel('Words')\n",
        "plt.ylabel('Proportion of Emails')\n",
        "plt.title('Words frequency in Spam/Ham Emails')\n",
        "plt.xticks(rotation = 'vertical')"
      ]
    },
    {
      "cell_type": "markdown",
      "source": [
        "##Training Model"
      ],
      "metadata": {
        "id": "r49XGWBrw8bI"
      }
    },
    {
      "cell_type": "code",
      "execution_count": null,
      "metadata": {
        "id": "vBMMF1kFuFPk",
        "outputId": "e74f41bb-ae6c-465f-9400-39595c37624d"
      },
      "outputs": [
        {
          "name": "stdout",
          "output_type": "stream",
          "text": [
            "0.9395209580838323 0.9335170100622904\n"
          ]
        }
      ],
      "source": [
        "model = lm.LogisticRegression()\n",
        "X_train = training.iloc[:, 4:]\n",
        "Y_train = training['spam']\n",
        "X_val = val.iloc[:, 4:]\n",
        "Y_val = val['spam']\n",
        "X_test = test.iloc[:, 3:]\n",
        "\n",
        "model.fit(X_train, Y_train)\n",
        "prediction = model.predict(X_val)\n",
        "prediction1 = model.predict(X_train)\n",
        "\n",
        "print(sk.accuracy_score(Y_val, prediction), sk.accuracy_score(Y_train, prediction1))"
      ]
    }
  ],
  "metadata": {
    "kernelspec": {
      "display_name": "Python 3 (ipykernel)",
      "language": "python",
      "name": "python3"
    },
    "language_info": {
      "codemirror_mode": {
        "name": "ipython",
        "version": 3
      },
      "file_extension": ".py",
      "mimetype": "text/x-python",
      "name": "python",
      "nbconvert_exporter": "python",
      "pygments_lexer": "ipython3",
      "version": "3.8.10"
    },
    "colab": {
      "provenance": []
    }
  },
  "nbformat": 4,
  "nbformat_minor": 0
}